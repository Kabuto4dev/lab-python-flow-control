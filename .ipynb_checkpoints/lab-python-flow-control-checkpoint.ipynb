{
 "cells": [
  {
   "cell_type": "markdown",
   "id": "d3bfc191-8885-42ee-b0a0-bbab867c6f9f",
   "metadata": {
    "tags": []
   },
   "source": [
    "# Lab | Flow Control"
   ]
  },
  {
   "cell_type": "markdown",
   "id": "3851fcd1-cf98-4653-9c89-e003b7ec9400",
   "metadata": {},
   "source": [
    "## Exercise: Managing Customer Orders Optimized\n",
    "\n",
    "In the last lab, you were starting an online store that sells various products. To ensure smooth operations, you developed a program that manages customer orders and inventory.\n",
    "\n",
    "You did so without using flow control. Let's go a step further and improve this code.\n",
    "\n",
    "Follow the steps below to complete the exercise:\n",
    "\n",
    "1. Look at your code from the lab data structures, and improve repeated code with loops.\n",
    "\n",
    "2. Instead of asking the user to input the name of three products that a customer wants to order, do the following:\n",
    "    \n",
    "    a. Prompt the user to enter the name of a product that a customer wants to order.\n",
    "    \n",
    "    b. Add the product name to the \"customer_orders\" set.\n",
    "    \n",
    "    c. Ask the user if they want to add another product (yes/no).\n",
    "    \n",
    "    d. Continue the loop until the user does not want to add another product.\n",
    "\n",
    "3. Instead of updating the inventory by subtracting 1 from the quantity of each product, only do it for  the products that were ordered (those in \"customer_orders\")."
   ]
  },
  {
   "cell_type": "code",
   "execution_count": 7,
   "id": "575df82a",
   "metadata": {},
   "outputs": [],
   "source": [
    "# Definition of product initial inventory:\n",
    "\n",
    "products_inv = {\"t-shirt\":0, \"mug\":0, \"hat\":0, \"book\":0, \"keychain\":0}"
   ]
  },
  {
   "cell_type": "code",
   "execution_count": 8,
   "id": "e580ba01",
   "metadata": {},
   "outputs": [
    {
     "name": "stdout",
     "output_type": "stream",
     "text": [
      "Enter quantity of t-shirt:10\n",
      "Enter quantity of mug:20\n",
      "Enter quantity of hat:30\n",
      "Enter quantity of book:40\n",
      "Enter quantity of keychain:50\n"
     ]
    }
   ],
   "source": [
    "# Enter inventory of product & quantity:\n",
    "\n",
    "for key in products_inv:\n",
    "    products_inv[key] = int(input(\"Enter quantity of \" + key + \":\"))\n"
   ]
  },
  {
   "cell_type": "code",
   "execution_count": 9,
   "id": "b6738b0e",
   "metadata": {},
   "outputs": [],
   "source": [
    "# Create an empty set for Customer orders:\n",
    "\n",
    "customer_orders = set()\n"
   ]
  },
  {
   "cell_type": "code",
   "execution_count": 10,
   "id": "e71ff669",
   "metadata": {},
   "outputs": [
    {
     "name": "stdout",
     "output_type": "stream",
     "text": [
      "Enter the product you want to order: mug\n",
      "You've purchased a: mug\n",
      "Do you want to buy anything else? Yes/No: Yes\n",
      "Enter the product you want to order: hat\n",
      "You've purchased a: hat\n",
      "Do you want to buy anything else? Yes/No: No\n"
     ]
    }
   ],
   "source": [
    "# Ask the customer which product wants to buy:\n",
    "\n",
    "decision = 'Yes'\n",
    "\n",
    "while decision.lower() == 'yes':\n",
    "    select_pr = input(\"Enter the product you want to order: \")\n",
    "    if select_pr in products_inv:\n",
    "        print(\"You've purchased a:\", select_pr)\n",
    "        customer_orders.add(select_pr)  # Add the product to the customer orders set\n",
    "    else:\n",
    "        print(\"The product you selected is not available.\")\n",
    "    decision = input(\"Do you want to buy anything else? Yes/No: \").strip().lower()\n"
   ]
  },
  {
   "cell_type": "code",
   "execution_count": 11,
   "id": "3e6b5adb",
   "metadata": {},
   "outputs": [],
   "source": [
    "# Update inventory only for the products ordered:\n",
    "\n",
    "for product in customer_orders:\n",
    "    products_inv[product] -= 1"
   ]
  },
  {
   "cell_type": "code",
   "execution_count": 12,
   "id": "c8bc21c5",
   "metadata": {},
   "outputs": [
    {
     "name": "stdout",
     "output_type": "stream",
     "text": [
      "Inventory after purchases: {'t-shirt': 10, 'mug': 19, 'hat': 29, 'book': 40, 'keychain': 50}\n"
     ]
    }
   ],
   "source": [
    "# Print inventory updating:\n",
    "\n",
    "print(\"Inventory after purchases:\", products_inv)"
   ]
  }
 ],
 "metadata": {
  "kernelspec": {
   "display_name": "Python 3 (ipykernel)",
   "language": "python",
   "name": "python3"
  },
  "language_info": {
   "codemirror_mode": {
    "name": "ipython",
    "version": 3
   },
   "file_extension": ".py",
   "mimetype": "text/x-python",
   "name": "python",
   "nbconvert_exporter": "python",
   "pygments_lexer": "ipython3",
   "version": "3.9.7"
  }
 },
 "nbformat": 4,
 "nbformat_minor": 5
}
